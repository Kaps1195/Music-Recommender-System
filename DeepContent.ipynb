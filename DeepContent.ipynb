{
 "cells": [
  {
   "cell_type": "code",
   "execution_count": 1,
   "metadata": {},
   "outputs": [
    {
     "name": "stderr",
     "output_type": "stream",
     "text": [
      "Using Theano backend.\n",
      "WARNING (theano.tensor.blas): Using NumPy C-API based implementation for BLAS functions.\n"
     ]
    }
   ],
   "source": [
    "import pandas\n",
    "import numpy as np\n",
    "from Recommender.DeepContent.Recommender import DeepContentRecommender\n",
    "from Recommender.DeepContent.LabellingModel import SongLabellingModel"
   ]
  },
  {
   "cell_type": "code",
   "execution_count": 4,
   "metadata": {},
   "outputs": [
    {
     "data": {
      "text/plain": [
       "(1, 50)"
      ]
     },
     "execution_count": 4,
     "metadata": {},
     "output_type": "execute_result"
    }
   ],
   "source": [
    "recommender = DeepContentRecommender(None,None,None,'Recommender/DeepContent/use5-bestcheckpoint-0.08- 0.35.hdf5','dataset/song_preview/','dataset/deep_learning/label_map(boolean_mood).csv')\n",
    "result = recommender.analyzeNewSong('/home/capt4ce/projects/major_project/dataset/song_preview/TRAAAAW128F429D538-mzm.jmksdiul.aac.p.m4a')\n",
    "result.shape\n",
    "\n",
    "# lModel = SongLabellingModel('Recommender/DeepContent/use5-bestcheckpoint-0.08- 0.35.hdf5','dataset/song_preview/','dataset/deep_learning/label_map(boolean_mood).csv')\n",
    "# model = lModel.getModel()\n",
    "# model"
   ]
  },
  {
   "cell_type": "code",
   "execution_count": 5,
   "metadata": {},
   "outputs": [
    {
     "data": {
      "text/plain": [
       "array([[  1.14635390e-09,   2.18802157e-10,   2.91894148e-10,\n",
       "          1.17291563e-07,   1.99895621e-11,   3.87927662e-10,\n",
       "          1.17285524e-07,   1.30511268e-10,   8.23791382e-12,\n",
       "          6.46717541e-11,   1.71904869e-11,   1.67403119e-10,\n",
       "          4.77288174e-11,   1.10012815e-11,   9.26214834e-13,\n",
       "          2.25955324e-10,   5.12563568e-11,   5.28332267e-10,\n",
       "          2.93357033e-10,   1.91531643e-12,   2.74821507e-12,\n",
       "          2.06678793e-12,   1.87133815e-11,   2.12216703e-11,\n",
       "          2.43490905e-12,   3.27562533e-10,   3.13397364e-11,\n",
       "          5.45534451e-12,   5.56423614e-12,   2.90404072e-11,\n",
       "          1.35333422e-13,   2.96428193e-09,   1.82051822e-11,\n",
       "          7.43556692e-12,   1.89356213e-12,   6.48672468e-13,\n",
       "          1.42464881e-12,   1.64578840e-13,   2.43430304e-10,\n",
       "          1.05204873e-11,   8.80749900e-12,   3.47953541e-11,\n",
       "          1.22709495e-10,   1.52833113e-09,   5.08819542e-10,\n",
       "          1.39932240e-07,   8.51788187e-08,   1.81001695e-07,\n",
       "          6.30869978e-09,   2.19631716e-10]], dtype=float32)"
      ]
     },
     "execution_count": 5,
     "metadata": {},
     "output_type": "execute_result"
    }
   ],
   "source": [
    "result"
   ]
  }
 ],
 "metadata": {
  "kernelspec": {
   "display_name": "Python 2",
   "language": "python",
   "name": "python2"
  },
  "language_info": {
   "codemirror_mode": {
    "name": "ipython",
    "version": 2
   },
   "file_extension": ".py",
   "mimetype": "text/x-python",
   "name": "python",
   "nbconvert_exporter": "python",
   "pygments_lexer": "ipython2",
   "version": "2.7.12"
  }
 },
 "nbformat": 4,
 "nbformat_minor": 2
}
