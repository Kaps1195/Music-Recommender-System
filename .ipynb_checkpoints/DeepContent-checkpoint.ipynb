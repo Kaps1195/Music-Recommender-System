{
 "cells": [
  {
   "cell_type": "raw",
   "metadata": {},
   "source": [
    "import pandas\n",
    "import numpy as np\n",
    "from Recommender.DeepContent.Recommender import DeepContentRecommender\n",
    "from Recommender.DeepContent.LabellingModel import SongLabellingModel"
   ]
  },
  {
   "cell_type": "raw",
   "metadata": {},
   "source": [
    "recommender = DeepContentRecommender(None,None,None,'Recommender/DeepContent/use5-bestcheckpoint-0.08- 0.35.hdf5','dataset/song_preview/','dataset/deep_learning/label_map(boolean_mood).csv')\n",
    "result = recommender.analyzeNewSong('/home/capt4ce/projects/major_project/dataset/song_preview/TRAAAAW128F429D538-mzm.jmksdiul.aac.p.m4a')\n",
    "result.shape\n",
    "\n",
    "# lModel = SongLabellingModel('Recommender/DeepContent/use5-bestcheckpoint-0.08- 0.35.hdf5','dataset/song_preview/','dataset/deep_learning/label_map(boolean_mood).csv')\n",
    "# model = lModel.getModel()\n",
    "# model"
   ]
  },
  {
   "cell_type": "raw",
   "metadata": {},
   "source": [
    "result"
   ]
  },
  {
   "cell_type": "markdown",
   "metadata": {},
   "source": [
    "# Recommendation designing"
   ]
  },
  {
   "cell_type": "code",
   "execution_count": 1,
   "metadata": {},
   "outputs": [],
   "source": [
    "import pandas\n",
    "import numpy as np"
   ]
  },
  {
   "cell_type": "code",
   "execution_count": 2,
   "metadata": {},
   "outputs": [],
   "source": [
    "label_map_path = 'dataset/deep_learning/label_map(boolean_mood).csv'\n",
    "main_song_label_path = './dataset/main_song_labels.csv'\n",
    "user_rating_path = 'dataset/main_user_rating.csv'"
   ]
  },
  {
   "cell_type": "markdown",
   "metadata": {},
   "source": [
    "## Preparing song label packed"
   ]
  },
  {
   "cell_type": "code",
   "execution_count": 3,
   "metadata": {},
   "outputs": [
    {
     "name": "stdout",
     "output_type": "stream",
     "text": [
      "             track_id             song_id                       title  \\\n",
      "0  TRAAAAW128F429D538  SOMZWCG12A8C13C480   I Didn't Mean To - Casual   \n",
      "1  TRAAABD128F429CF47  SOCIWDW12A8C13D406   The Letter - The Box Tops   \n",
      "2  TRAAAEF128F4273421  SONHOTT12A8C13493C  Something Girls - Adam Ant   \n",
      "3  TRAAAFD128F92F423A  SOFSOCN12A8C143F5D        Face the Ashes - Gob   \n",
      "\n",
      "                                        preview_file  Alternative & Punk  \\\n",
      "0          TRAAAAW128F429D538-mzm.jmksdiul.aac.p.m4a                 0.0   \n",
      "1          TRAAABD128F429CF47-mzm.maejowgk.aac.p.m4a                 0.0   \n",
      "2          TRAAAEF128F4273421-mzm.wvrnqeth.aac.p.m4a                 1.0   \n",
      "3  TRAAAFD128F92F423A-mzaf_7872227378043099108.pl...                 1.0   \n",
      "\n",
      "   Rock  Traditional  Urban  Pop  Other  ...   Latin Rock  Hard Rock  \\\n",
      "0   0.0          0.0    1.0  0.0    0.0  ...          0.0        0.0   \n",
      "1   1.0          0.0    0.0  0.0    0.0  ...          0.0        0.0   \n",
      "2   0.0          0.0    0.0  0.0    0.0  ...          0.0        0.0   \n",
      "3   0.0          0.0    0.0  0.0    0.0  ...          0.0        0.0   \n",
      "\n",
      "   Religious  happiness  sadness  anger  neutral  slow  medium  fast  \n",
      "0        0.0        0.0      0.0    1.0      1.0   1.0     0.0   0.0  \n",
      "1        0.0        1.0      0.0    0.0      1.0   0.0     1.0   0.0  \n",
      "2        0.0        0.0      1.0    0.0      1.0   0.0     1.0   0.0  \n",
      "3        0.0        0.0      1.0    1.0      0.0   0.0     1.0   0.0  \n",
      "\n",
      "[4 rows x 54 columns]\n"
     ]
    }
   ],
   "source": [
    "song_df = pandas.DataFrame(columns=['track_id', 'song_id', 'title', 'preview_file', 'labels'])\n",
    "label_map_df = pandas.read_csv(label_map_path, sep='\\t')\n",
    "print label_map_df.head(4)"
   ]
  },
  {
   "cell_type": "code",
   "execution_count": 4,
   "metadata": {},
   "outputs": [
    {
     "data": {
      "text/plain": [
       "50"
      ]
     },
     "execution_count": 4,
     "metadata": {},
     "output_type": "execute_result"
    }
   ],
   "source": [
    "labels = label_map_df.columns[4:]\n",
    "len(labels)"
   ]
  },
  {
   "cell_type": "code",
   "execution_count": 5,
   "metadata": {},
   "outputs": [],
   "source": [
    "for idx,row in label_map_df.iterrows():\n",
    "    related_labels = []\n",
    "    for lbl in labels:\n",
    "        if row[lbl]!=0:\n",
    "            related_labels.append(lbl)\n",
    "    song_df.loc[len(song_df)] = [row['track_id'], row['song_id'], row['title'], row['preview_file'], str(related_labels).replace('[','').replace(']','')]"
   ]
  },
  {
   "cell_type": "code",
   "execution_count": 10,
   "metadata": {},
   "outputs": [
    {
     "name": "stdout",
     "output_type": "stream",
     "text": [
      "2703\n"
     ]
    },
    {
     "data": {
      "text/html": [
       "<div>\n",
       "<style scoped>\n",
       "    .dataframe tbody tr th:only-of-type {\n",
       "        vertical-align: middle;\n",
       "    }\n",
       "\n",
       "    .dataframe tbody tr th {\n",
       "        vertical-align: top;\n",
       "    }\n",
       "\n",
       "    .dataframe thead th {\n",
       "        text-align: right;\n",
       "    }\n",
       "</style>\n",
       "<table border=\"1\" class=\"dataframe\">\n",
       "  <thead>\n",
       "    <tr style=\"text-align: right;\">\n",
       "      <th></th>\n",
       "      <th>track_id</th>\n",
       "      <th>song_id</th>\n",
       "      <th>title</th>\n",
       "      <th>preview_file</th>\n",
       "      <th>labels</th>\n",
       "    </tr>\n",
       "  </thead>\n",
       "  <tbody>\n",
       "    <tr>\n",
       "      <th>0</th>\n",
       "      <td>TRAAAAW128F429D538</td>\n",
       "      <td>SOMZWCG12A8C13C480</td>\n",
       "      <td>I Didn't Mean To - Casual</td>\n",
       "      <td>TRAAAAW128F429D538-mzm.jmksdiul.aac.p.m4a</td>\n",
       "      <td>'Urban', 'Western Hip-Hop/Rap', 'anger', 'neut...</td>\n",
       "    </tr>\n",
       "    <tr>\n",
       "      <th>1</th>\n",
       "      <td>TRAAABD128F429CF47</td>\n",
       "      <td>SOCIWDW12A8C13D406</td>\n",
       "      <td>The Letter - The Box Tops</td>\n",
       "      <td>TRAAABD128F429CF47-mzm.maejowgk.aac.p.m4a</td>\n",
       "      <td>'Rock', '60s Rock', 'happiness', 'neutral', 'm...</td>\n",
       "    </tr>\n",
       "    <tr>\n",
       "      <th>2</th>\n",
       "      <td>TRAAAEF128F4273421</td>\n",
       "      <td>SONHOTT12A8C13493C</td>\n",
       "      <td>Something Girls - Adam Ant</td>\n",
       "      <td>TRAAAEF128F4273421-mzm.wvrnqeth.aac.p.m4a</td>\n",
       "      <td>'Alternative &amp; Punk', 'New Wave Pop', 'sadness...</td>\n",
       "    </tr>\n",
       "    <tr>\n",
       "      <th>3</th>\n",
       "      <td>TRAAAFD128F92F423A</td>\n",
       "      <td>SOFSOCN12A8C143F5D</td>\n",
       "      <td>Face the Ashes - Gob</td>\n",
       "      <td>TRAAAFD128F92F423A-mzaf_7872227378043099108.pl...</td>\n",
       "      <td>'Alternative &amp; Punk', 'Punk', 'Pop Punk', 'sad...</td>\n",
       "    </tr>\n",
       "    <tr>\n",
       "      <th>4</th>\n",
       "      <td>TRAABLR128F423B7E3</td>\n",
       "      <td>SOHUOAP12A8AE488E9</td>\n",
       "      <td>Floating - Blue Rodeo</td>\n",
       "      <td>TRAABLR128F423B7E3-mzi.hrspqvdo.aac.p.m4a</td>\n",
       "      <td>'Rock', 'neutral', 'medium'</td>\n",
       "    </tr>\n",
       "  </tbody>\n",
       "</table>\n",
       "</div>"
      ],
      "text/plain": [
       "             track_id             song_id                       title  \\\n",
       "0  TRAAAAW128F429D538  SOMZWCG12A8C13C480   I Didn't Mean To - Casual   \n",
       "1  TRAAABD128F429CF47  SOCIWDW12A8C13D406   The Letter - The Box Tops   \n",
       "2  TRAAAEF128F4273421  SONHOTT12A8C13493C  Something Girls - Adam Ant   \n",
       "3  TRAAAFD128F92F423A  SOFSOCN12A8C143F5D        Face the Ashes - Gob   \n",
       "4  TRAABLR128F423B7E3  SOHUOAP12A8AE488E9       Floating - Blue Rodeo   \n",
       "\n",
       "                                        preview_file  \\\n",
       "0          TRAAAAW128F429D538-mzm.jmksdiul.aac.p.m4a   \n",
       "1          TRAAABD128F429CF47-mzm.maejowgk.aac.p.m4a   \n",
       "2          TRAAAEF128F4273421-mzm.wvrnqeth.aac.p.m4a   \n",
       "3  TRAAAFD128F92F423A-mzaf_7872227378043099108.pl...   \n",
       "4          TRAABLR128F423B7E3-mzi.hrspqvdo.aac.p.m4a   \n",
       "\n",
       "                                              labels  \n",
       "0  'Urban', 'Western Hip-Hop/Rap', 'anger', 'neut...  \n",
       "1  'Rock', '60s Rock', 'happiness', 'neutral', 'm...  \n",
       "2  'Alternative & Punk', 'New Wave Pop', 'sadness...  \n",
       "3  'Alternative & Punk', 'Punk', 'Pop Punk', 'sad...  \n",
       "4                        'Rock', 'neutral', 'medium'  "
      ]
     },
     "execution_count": 10,
     "metadata": {},
     "output_type": "execute_result"
    }
   ],
   "source": [
    "print len(song_df)\n",
    "song_df.to_csv(main_song_label_path, sep='\\t', encoding='utf-8', index=False)\n",
    "song_df.head(5)"
   ]
  },
  {
   "cell_type": "markdown",
   "metadata": {},
   "source": [
    "## Preparing Tag Vector Lengths"
   ]
  },
  {
   "cell_type": "code",
   "execution_count": null,
   "metadata": {},
   "outputs": [],
   "source": []
  },
  {
   "cell_type": "markdown",
   "metadata": {},
   "source": [
    "## Prepare Users' Profiles"
   ]
  },
  {
   "cell_type": "code",
   "execution_count": 7,
   "metadata": {},
   "outputs": [],
   "source": [
    "rating_df = pandas.read_csv(user_rating_path, sep='\\t')"
   ]
  },
  {
   "cell_type": "markdown",
   "metadata": {},
   "source": [
    "## Recommending (based on user profile)"
   ]
  },
  {
   "cell_type": "code",
   "execution_count": 8,
   "metadata": {},
   "outputs": [
    {
     "data": {
      "text/html": [
       "<div>\n",
       "<style scoped>\n",
       "    .dataframe tbody tr th:only-of-type {\n",
       "        vertical-align: middle;\n",
       "    }\n",
       "\n",
       "    .dataframe tbody tr th {\n",
       "        vertical-align: top;\n",
       "    }\n",
       "\n",
       "    .dataframe thead th {\n",
       "        text-align: right;\n",
       "    }\n",
       "</style>\n",
       "<table border=\"1\" class=\"dataframe\">\n",
       "  <thead>\n",
       "    <tr style=\"text-align: right;\">\n",
       "      <th></th>\n",
       "      <th>username</th>\n",
       "      <th>track_id</th>\n",
       "      <th>rating</th>\n",
       "    </tr>\n",
       "  </thead>\n",
       "  <tbody>\n",
       "    <tr>\n",
       "      <th>0</th>\n",
       "      <td>ali</td>\n",
       "      <td>TRAAAAW128F429D538</td>\n",
       "      <td>4.0</td>\n",
       "    </tr>\n",
       "    <tr>\n",
       "      <th>1</th>\n",
       "      <td>ali</td>\n",
       "      <td>TRAAABD128F429CF47</td>\n",
       "      <td>4.5</td>\n",
       "    </tr>\n",
       "  </tbody>\n",
       "</table>\n",
       "</div>"
      ],
      "text/plain": [
       "  username            track_id  rating\n",
       "0      ali  TRAAAAW128F429D538     4.0\n",
       "1      ali  TRAAABD128F429CF47     4.5"
      ]
     },
     "execution_count": 8,
     "metadata": {},
     "output_type": "execute_result"
    }
   ],
   "source": [
    "rating_df"
   ]
  }
 ],
 "metadata": {
  "kernelspec": {
   "display_name": "Python 2",
   "language": "python",
   "name": "python2"
  },
  "language_info": {
   "codemirror_mode": {
    "name": "ipython",
    "version": 2
   },
   "file_extension": ".py",
   "mimetype": "text/x-python",
   "name": "python",
   "nbconvert_exporter": "python",
   "pygments_lexer": "ipython2",
   "version": "2.7.12"
  }
 },
 "nbformat": 4,
 "nbformat_minor": 2
}
